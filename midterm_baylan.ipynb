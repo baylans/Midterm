{
 "cells": [
  {
   "cell_type": "code",
   "execution_count": 6,
   "id": "59e8f7e0",
   "metadata": {},
   "outputs": [],
   "source": [
    "import json\n",
    "import time\n",
    "import requests\n",
    "from bs4 import BeautifulSoup\n",
    "import pandas as pd"
   ]
  },
  {
   "cell_type": "code",
   "execution_count": 7,
   "id": "99959ba0",
   "metadata": {},
   "outputs": [],
   "source": [
    "payload = '{\"cuni\":\"22296119\"}'\n",
    "req = requests.post(\"https://ies-midterm.soulution.rocks/login\",payload)"
   ]
  },
  {
   "cell_type": "code",
   "execution_count": 8,
   "id": "45fe4a5a",
   "metadata": {},
   "outputs": [
    {
     "data": {
      "text/plain": [
       "<Response [200]>"
      ]
     },
     "execution_count": 8,
     "metadata": {},
     "output_type": "execute_result"
    }
   ],
   "source": [
    "req"
   ]
  },
  {
   "cell_type": "code",
   "execution_count": 10,
   "id": "743c7760",
   "metadata": {},
   "outputs": [],
   "source": [
    "data = json.loads(req.text)"
   ]
  },
  {
   "cell_type": "code",
   "execution_count": 12,
   "id": "5aeea593",
   "metadata": {},
   "outputs": [
    {
     "data": {
      "text/plain": [
       "{'data': {'personal_code': 'eb4f58ee',\n",
       "  'dataset_ids': ['5df3513c79',\n",
       "   '779ce2818b',\n",
       "   'e2beb850b2',\n",
       "   '775352ba11',\n",
       "   '3e8641892a',\n",
       "   'f561ba0da6']},\n",
       " 'message': 'Hello, Baylan Su Hazal! Good luck with the midterm. GET your data set from /data/file_id endpoint; use the codes you received in the data response as the file_id parameter! Print the personal code in your notebook.'}"
      ]
     },
     "execution_count": 12,
     "metadata": {},
     "output_type": "execute_result"
    }
   ],
   "source": [
    "data"
   ]
  },
  {
   "cell_type": "code",
   "execution_count": 13,
   "id": "3095f0e4",
   "metadata": {},
   "outputs": [
    {
     "data": {
      "text/plain": [
       "'Hello, Baylan Su Hazal! Good luck with the midterm. GET your data set from /data/file_id endpoint; use the codes you received in the data response as the file_id parameter! Print the personal code in your notebook.'"
      ]
     },
     "execution_count": 13,
     "metadata": {},
     "output_type": "execute_result"
    }
   ],
   "source": [
    "data[\"message\"]"
   ]
  },
  {
   "cell_type": "code",
   "execution_count": 26,
   "id": "4b31b45b",
   "metadata": {},
   "outputs": [],
   "source": [
    "dataset_ids = data[\"data\"][\"dataset_ids\"]"
   ]
  },
  {
   "cell_type": "code",
   "execution_count": 27,
   "id": "3eba2d49",
   "metadata": {},
   "outputs": [
    {
     "name": "stdout",
     "output_type": "stream",
     "text": [
      "['5df3513c79', '779ce2818b', 'e2beb850b2', '775352ba11', '3e8641892a', 'f561ba0da6']\n"
     ]
    }
   ],
   "source": [
    "print(dataset_ids)"
   ]
  },
  {
   "cell_type": "code",
   "execution_count": 23,
   "id": "9b976b60",
   "metadata": {},
   "outputs": [],
   "source": [
    "personal_code = data[\"data\"][\"personal_code\"]"
   ]
  },
  {
   "cell_type": "code",
   "execution_count": 24,
   "id": "737435ad",
   "metadata": {},
   "outputs": [
    {
     "name": "stdout",
     "output_type": "stream",
     "text": [
      "eb4f58ee\n"
     ]
    }
   ],
   "source": [
    "print(personal_code)"
   ]
  },
  {
   "cell_type": "code",
   "execution_count": 46,
   "id": "a19ed624",
   "metadata": {},
   "outputs": [],
   "source": [
    "headers_param = {\"User-Agent\":\"Mozilla/5.0 (Macintosh; Intel Mac OS X 10_15_7) AppleWebKit/537.36 (KHTML, like Gecko) Chrome/99.0.4844.84 Safari/537.36\"}"
   ]
  },
  {
   "cell_type": "code",
   "execution_count": 72,
   "id": "c88046fa",
   "metadata": {},
   "outputs": [
    {
     "name": "stdout",
     "output_type": "stream",
     "text": [
      "<Response [403]>\n"
     ]
    }
   ],
   "source": [
    "data1 = requests.get(url =f\"https://ies-midterm.soulution.rocks/login/data/5df3513c79\", headers = headers_param)\n",
    "print(data1)"
   ]
  },
  {
   "cell_type": "code",
   "execution_count": 73,
   "id": "555a4f06",
   "metadata": {},
   "outputs": [
    {
     "name": "stdout",
     "output_type": "stream",
     "text": [
      "<Response [403]>\n"
     ]
    }
   ],
   "source": [
    "data2 = requests.get(url =f\"https://ies-midterm.soulution.rocks/login/data/779ce2818b\", headers = headers_param)\n",
    "print(data2)"
   ]
  },
  {
   "cell_type": "code",
   "execution_count": 74,
   "id": "44a6234d",
   "metadata": {},
   "outputs": [
    {
     "name": "stdout",
     "output_type": "stream",
     "text": [
      "<Response [403]>\n"
     ]
    }
   ],
   "source": [
    "data3 = requests.get(url =f\"https://ies-midterm.soulution.rocks/login/data/e2beb850b2\", headers = headers_param)\n",
    "print(data3)"
   ]
  },
  {
   "cell_type": "code",
   "execution_count": 75,
   "id": "b90630a0",
   "metadata": {},
   "outputs": [
    {
     "name": "stdout",
     "output_type": "stream",
     "text": [
      "<Response [403]>\n"
     ]
    }
   ],
   "source": [
    "data4 = requests.get(url =f\"https://ies-midterm.soulution.rocks/login/data/775352ba11\", headers = headers_param)\n",
    "print(data4)"
   ]
  },
  {
   "cell_type": "code",
   "execution_count": 76,
   "id": "72cae6a3",
   "metadata": {},
   "outputs": [
    {
     "name": "stdout",
     "output_type": "stream",
     "text": [
      "<Response [403]>\n"
     ]
    }
   ],
   "source": [
    "data5 = requests.get(url =f\"https://ies-midterm.soulution.rocks/login/data/3e8641892a\", headers = headers_param)\n",
    "print(data5)"
   ]
  },
  {
   "cell_type": "code",
   "execution_count": 77,
   "id": "f6e43310",
   "metadata": {},
   "outputs": [
    {
     "name": "stdout",
     "output_type": "stream",
     "text": [
      "<Response [403]>\n"
     ]
    }
   ],
   "source": [
    "data6 = requests.get(url =f\"https://ies-midterm.soulution.rocks/login/data/f561ba0da6\", headers = headers_param)\n",
    "print(data6)"
   ]
  },
  {
   "cell_type": "code",
   "execution_count": 60,
   "id": "685922e1",
   "metadata": {},
   "outputs": [
    {
     "name": "stdout",
     "output_type": "stream",
     "text": [
      "b'{\"message\":\"Missing Authentication Token\"}'\n"
     ]
    }
   ],
   "source": [
    "for i in data1:\n",
    "    print(i)"
   ]
  }
 ],
 "metadata": {
  "kernelspec": {
   "display_name": "Python 3 (ipykernel)",
   "language": "python",
   "name": "python3"
  },
  "language_info": {
   "codemirror_mode": {
    "name": "ipython",
    "version": 3
   },
   "file_extension": ".py",
   "mimetype": "text/x-python",
   "name": "python",
   "nbconvert_exporter": "python",
   "pygments_lexer": "ipython3",
   "version": "3.9.7"
  }
 },
 "nbformat": 4,
 "nbformat_minor": 5
}
